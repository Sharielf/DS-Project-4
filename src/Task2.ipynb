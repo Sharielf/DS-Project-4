{
 "cells": [
  {
   "cell_type": "code",
   "execution_count": 1,
   "id": "ce8099c1",
   "metadata": {},
   "outputs": [
    {
     "name": "stdout",
     "output_type": "stream",
     "text": [
      "Температура в городе Санкт-Петербург: 12.8°C\n",
      "Облачность Санкт-Петербург: few clouds\n",
      "Влажность в городе Санкт-Петербург: 65%\n",
      "Скорость ветра в городе Санкт-Петербург: 6 м/с\n"
     ]
    }
   ],
   "source": [
    "import requests\n",
    "\n",
    "class Weather:\n",
    "    #Метод init инициализирует необходимые переменные для работы с API    \n",
    "    def __init__(self, city):\n",
    "        self.api_key = '39329a2414073b8f25e2136cbc5722d1'\n",
    "        self.url = f'http://api.openweathermap.org/data/2.5/weather?q={city}&appid={self.api_key}&units=metric'\n",
    "\n",
    "    #Метод get_weather_data отправляет запрос к соответствующему API \n",
    "    #и получает ответ в формате JSON, содержащий информацию о погоде в указанном городе.\n",
    "    def get_weather_data(self):\n",
    "        response = requests.get(self.url)\n",
    "        weather_data = response.json()\n",
    "        return weather_data\n",
    "\n",
    "    def get_temperature(self):\n",
    "        weather_data = self.get_weather_data()\n",
    "        temperature = round(weather_data['main']['temp'], 1)\n",
    "        return temperature\n",
    "\n",
    "    def get_description(self):\n",
    "        weather_data = self.get_weather_data()\n",
    "        description = weather_data['weather'][0]['description']\n",
    "        return description\n",
    "\n",
    "    def get_humidity(self):\n",
    "        weather_data = self.get_weather_data()\n",
    "        humidity = weather_data['main']['humidity']\n",
    "        return humidity\n",
    "\n",
    "    def get_wind_speed(self):\n",
    "        weather_data = self.get_weather_data()\n",
    "        wind_speed = weather_data['wind']['speed']\n",
    "        return wind_speed\n",
    "\n",
    "#ЗДЕСЬ НАДО МЕНЯТЬ НАЗВАНИЕ ГОРОДА\n",
    "city = \"Санкт-Петербург\"\n",
    "weather = Weather(city)\n",
    "\n",
    "# Получение данных о погоде \n",
    "temperature = weather.get_temperature() # Температура\n",
    "description = weather.get_description() # Облачность\n",
    "humidity = weather.get_humidity() # Влажность\n",
    "wind_speed = weather.get_wind_speed() # Скорость ветра\n",
    "\n",
    "# Вывод результатов\n",
    "print(f\"Температура в городе {city}: {temperature}°C\")\n",
    "print(f\"Облачность {city}: {description}\")\n",
    "print(f\"Влажность в городе {city}: {humidity}%\")\n",
    "print(f\"Скорость ветра в городе {city}: {wind_speed} м/с\")"
   ]
  }
 ],
 "metadata": {
  "kernelspec": {
   "display_name": "Python 3 (ipykernel)",
   "language": "python",
   "name": "python3"
  },
  "language_info": {
   "codemirror_mode": {
    "name": "ipython",
    "version": 3
   },
   "file_extension": ".py",
   "mimetype": "text/x-python",
   "name": "python",
   "nbconvert_exporter": "python",
   "pygments_lexer": "ipython3",
   "version": "3.10.9"
  }
 },
 "nbformat": 4,
 "nbformat_minor": 5
}
